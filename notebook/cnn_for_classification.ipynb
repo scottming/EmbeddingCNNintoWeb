{
 "cells": [
  {
   "cell_type": "code",
   "execution_count": 1,
   "metadata": {
    "collapsed": true
   },
   "outputs": [],
   "source": [
    "import numpy as np\n",
    "import tensorflow as tf"
   ]
  },
  {
   "cell_type": "code",
   "execution_count": 2,
   "metadata": {
    "collapsed": true
   },
   "outputs": [],
   "source": [
    "import tensorflow as tf\n",
    "\n",
    "class TextCNN(object):\n",
    "    \"\"\"A CNN for text classification.\n",
    "    \"\"\"\n",
    "    def __init__(self, \n",
    "                 sequence_length, \n",
    "                 vocab_size, \n",
    "                 word_embed_size,\n",
    "                 filter_num,\n",
    "                 filter_sizes,\n",
    "                 num_classes):\n",
    "\n",
    "        # Placeholders for input, output, dropout\n",
    "        self.input_x = tf.placeholder(\n",
    "            tf.int32, shape=[None, sequence_length], name='input_x')\n",
    "        self.input_y = tf.placeholder(\n",
    "            tf.int32, shape=[None, ], name='input_y')\n",
    "        self.keep_proba = tf.placeholder(\n",
    "            tf.float32, shape=None, name='keep_proba')\n",
    "\n",
    "        # Embedding layer\n",
    "        with tf.name_scope('embedding'):\n",
    "            self.W = tf.get_variable('word_embedding', \n",
    "                                     [vocab_size, word_embed_size],\n",
    "                                     tf.float32, \n",
    "                                     tf.random_normal_initializer())\n",
    "            self.embeds = tf.nn.embedding_lookup(self.W, self.input_x)\n",
    "            self.embeds_expanded = tf.expand_dims(self.embeds, -1)\n",
    "\n",
    "        # Convolution + maxpool layer\n",
    "        pooled_outputs = []\n",
    "        for i, filter_size in enumerate(filter_sizes):\n",
    "            with tf.name_scope(f'conv-maxpool-{filter_size}'):\n",
    "                filter_shape = [filter_size, word_embed_size, 1, filter_num]\n",
    "                W = tf.get_variable(f\"W-{filter_size}\", \n",
    "                                    filter_shape, \n",
    "                                    initializer=tf.truncated_normal_initializer(stddev=0.1))\n",
    "                b = tf.get_variable(f\"b-{filter_size}\", [filter_num], \n",
    "                                    initializer=tf.constant_initializer(0.0))\n",
    "                conv = tf.nn.conv2d(self.embeds_expanded,\n",
    "                                    W,\n",
    "                                    strides=[1, 1, 1, 1],\n",
    "                                    padding='VALID',\n",
    "                                    name=f'conv-{filter_size}')\n",
    "                conv_hidden = tf.nn.tanh(tf.add(conv, b), name=f'tanh-{filter_size}')\n",
    "                # conv_hidden = tf.nn.relu(tf.add(conv, b), name=f'relu-{filter_size}')\n",
    "                pool = tf.nn.max_pool(conv_hidden,\n",
    "                                    ksize=[1, sequence_length - filter_size + 1, 1, 1],\n",
    "                                    strides=[1, 1, 1, 1],\n",
    "                                    padding='VALID',\n",
    "                                    name=f'pool-{filter_size}')\n",
    "                pooled_outputs.append(pool)\n",
    "            \n",
    "            num_filters_total = filter_num * len(filter_sizes)\n",
    "            self.h_pool = tf.concat(pooled_outputs, 3)\n",
    "            self.h_pool_flat = tf.reshape(self.h_pool, [-1, num_filters_total])\n",
    "\n",
    "        # Drop out layer\n",
    "        with tf.name_scope('dropout'):\n",
    "            self.h_drop = tf.nn.dropout(self.h_pool_flat, self.keep_proba)\n",
    "            \n",
    "        # Final scores and predictions\n",
    "        with tf.name_scope('output'):\n",
    "            softmax_w = tf.get_variable('softmax_w', [num_filters_total, num_classes], \n",
    "                                        tf.float32, tf.random_normal_initializer())\n",
    "            softmax_b = tf.get_variable('softmax_b', [num_classes], tf.float32, \n",
    "                                        tf.constant_initializer(0.0))\n",
    "            self.logits = tf.matmul(self.h_drop, softmax_w) + softmax_b\n",
    "            self.y = tf.nn.softmax(self.logits, name='y')\n",
    "\n",
    "        # CalculateMean cross-entropy loss\n",
    "        with tf.name_scope('loss'):\n",
    "            losses = tf.nn.sparse_softmax_cross_entropy_with_logits(\n",
    "                logits=self.logits, labels=self.input_y, name='losses')\n",
    "            self.loss = tf.reduce_mean(losses, name='loss')\n",
    "\n",
    "        # Accuracy\n",
    "        with tf.name_scope('accuracy'):\n",
    "            # 计算预测值\n",
    "            self.pred = tf.argmax(self.y, 1, name='pred')\n",
    "            # 判断两个张亮的每一维度是否相等\n",
    "            correct_prediction = tf.equal(tf.cast(self.pred, tf.int32), self.input_y)\n",
    "            # 先将布尔型的数值转为实数型，然后计算平均值\n",
    "            self.accuracy = tf.reduce_mean(tf.cast(correct_prediction, tf.float32),\n",
    "                                           name='accuracy')"
   ]
  },
  {
   "cell_type": "code",
   "execution_count": 4,
   "metadata": {
    "collapsed": true
   },
   "outputs": [],
   "source": [
    "vocab_size = 80000\n",
    "word_embed_size = 128\n",
    "batch_size = 50\n",
    "num_classes = 2\n",
    "filter_num = 64\n",
    "learning_rate = 0.01\n",
    "training_steps = 5001\n",
    "print_loss_every = 500\n",
    "filter_sizes = [3, 4, 5]"
   ]
  },
  {
   "cell_type": "code",
   "execution_count": 5,
   "metadata": {
    "collapsed": true
   },
   "outputs": [],
   "source": [
    "train = np.loadtxt('data/train_data.txt', dtype=int)\n",
    "test = np.loadtxt('data/test_data.txt', dtype=int)\n",
    "train_shuffle_idx = np.random.permutation(train.shape[0])\n",
    "test_shuffle_idx = np.random.permutation(test.shape[0])\n",
    "train = train[train_shuffle_idx]\n",
    "test = test[test_shuffle_idx]\n",
    "x_train = train[:, :-1]\n",
    "y_train = train[:, -1:].reshape((-1,))\n",
    "x_test = test[:, :-1]\n",
    "y_test = test[:, -1:].reshape((-1,))\n",
    "sequence_length = x_train.shape[1]\n",
    "dataset_size = train.shape[0]"
   ]
  },
  {
   "cell_type": "code",
   "execution_count": 6,
   "metadata": {
    "scrolled": false
   },
   "outputs": [
    {
     "name": "stdout",
     "output_type": "stream",
     "text": [
      "Epoch: 0000 | AvgCost: 13.0630 | Train/Test ACC: 0.509/0.510\n",
      "Epoch: 0500 | AvgCost:  0.5697 | Train/Test ACC: 0.718/0.688\n",
      "Epoch: 1000 | AvgCost:  0.3931 | Train/Test ACC: 0.830/0.782\n",
      "Epoch: 1500 | AvgCost:  0.5147 | Train/Test ACC: 0.891/0.833\n",
      "Epoch: 2000 | AvgCost:  0.3279 | Train/Test ACC: 0.908/0.839\n",
      "Epoch: 2500 | AvgCost:  0.4320 | Train/Test ACC: 0.902/0.842\n",
      "Epoch: 3000 | AvgCost:  0.2598 | Train/Test ACC: 0.888/0.817\n",
      "Epoch: 3500 | AvgCost:  0.2320 | Train/Test ACC: 0.904/0.837\n",
      "Epoch: 4000 | AvgCost:  0.1873 | Train/Test ACC: 0.929/0.851\n",
      "Epoch: 4500 | AvgCost:  0.3524 | Train/Test ACC: 0.951/0.876\n",
      "Epoch: 5000 | AvgCost:  0.1530 | Train/Test ACC: 0.940/0.858\n"
     ]
    }
   ],
   "source": [
    "tf.reset_default_graph()\n",
    "with tf.Graph().as_default():\n",
    "    cnn = TextCNN(sequence_length, \n",
    "                  vocab_size, \n",
    "                  word_embed_size,\n",
    "                  filter_num,\n",
    "                  filter_sizes,\n",
    "                  num_classes)\n",
    "    \n",
    "    # Set eval feed_dict\n",
    "    input_x, input_y, keep_proba = (\n",
    "        cnn.input_x, cnn.input_y, cnn.keep_proba)\n",
    "    train_feed_dict = {input_x: x_train, \n",
    "                       input_y: y_train,\n",
    "                       keep_proba: 1.0}\n",
    "    test_feed_dict = {input_x: x_test, \n",
    "                      input_y: y_test,\n",
    "                      keep_proba: 1.0}\n",
    "    \n",
    "    # Train\n",
    "    saver = tf.train.Saver()\n",
    "    train_step = tf.train.AdamOptimizer(learning_rate).minimize(cnn.loss)\n",
    "    with tf.Session() as sess:\n",
    "        sess.run(tf.global_variables_initializer())\n",
    "        for i in range(training_steps):\n",
    "            start = (i * batch_size) % dataset_size\n",
    "            end = min(start + batch_size, dataset_size)\n",
    "            feed_dict={input_x: x_train[start:end],\n",
    "                       input_y: y_train[start:end],\n",
    "                       keep_proba: 0.5}\n",
    "            sess.run(train_step, feed_dict=feed_dict)\n",
    "            if i % print_loss_every == 0:\n",
    "                avg_cost = cnn.loss.eval(feed_dict=feed_dict)\n",
    "                train_acc = cnn.accuracy.eval(feed_dict=train_feed_dict)\n",
    "                test_acc = cnn.accuracy.eval(feed_dict=test_feed_dict)\n",
    "                test_pred = cnn.pred.eval(feed_dict=test_feed_dict)\n",
    "                print(f\"Epoch: {i:04d} | AvgCost: {avg_cost:7.4f}\", end=\"\")\n",
    "                print(f\" | Train/Test ACC: {train_acc:.3f}/{test_acc:.3f}\")\n",
    "        \n",
    "        # After training, save the sess\n",
    "        save_path = saver.save(sess, 'model/model.ckpt')"
   ]
  },
  {
   "cell_type": "markdown",
   "metadata": {},
   "source": [
    "### Change Log:\n",
    "\n",
    "v0: 添加 dropout，美化打印效果"
   ]
  }
 ],
 "metadata": {
  "hide_input": false,
  "kernelspec": {
   "display_name": "Python 3",
   "language": "python",
   "name": "python3"
  },
  "language_info": {
   "codemirror_mode": {
    "name": "ipython",
    "version": 3
   },
   "file_extension": ".py",
   "mimetype": "text/x-python",
   "name": "python",
   "nbconvert_exporter": "python",
   "pygments_lexer": "ipython3",
   "version": "3.6.0"
  }
 },
 "nbformat": 4,
 "nbformat_minor": 2
}
