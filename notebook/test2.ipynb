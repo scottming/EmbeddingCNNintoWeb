{
 "cells": [
  {
   "cell_type": "code",
   "execution_count": 1,
   "metadata": {
    "collapsed": true
   },
   "outputs": [],
   "source": [
    "import numpy as np\n",
    "import tensorflow as tf"
   ]
  },
  {
   "cell_type": "code",
   "execution_count": 2,
   "metadata": {
    "collapsed": true
   },
   "outputs": [],
   "source": [
    "vocab_size = 80000\n",
    "word_embed_size = 128\n",
    "batch_size = 50\n",
    "num_classes = 2\n",
    "filter_num = 64\n",
    "learning_rate = 0.01\n",
    "training_steps = 10\n",
    "print_loss_every = 2\n",
    "filter_sizes = [3, 4, 5]"
   ]
  },
  {
   "cell_type": "code",
   "execution_count": 3,
   "metadata": {
    "collapsed": true
   },
   "outputs": [],
   "source": [
    "train = np.loadtxt('../data/train_data.txt', dtype=int)\n",
    "test = np.loadtxt('../data/test_data.txt', dtype=int)\n",
    "train_shuffle_idx = np.random.permutation(train.shape[0])\n",
    "test_shuffle_idx = np.random.permutation(test.shape[0])\n",
    "train = train[train_shuffle_idx]\n",
    "test = test[test_shuffle_idx]\n",
    "x_train = train[:, :-1]\n",
    "y_train = train[:, -1:].reshape((-1,))\n",
    "x_test = test[:, :-1]\n",
    "y_test = test[:, -1:].reshape((-1,))\n",
    "sequence_length = x_train.shape[1]\n",
    "dataset_size = train.shape[0]"
   ]
  },
  {
   "cell_type": "code",
   "execution_count": 4,
   "metadata": {
    "collapsed": true
   },
   "outputs": [],
   "source": [
    "tf.reset_default_graph()"
   ]
  },
  {
   "cell_type": "code",
   "execution_count": 5,
   "metadata": {
    "scrolled": true
   },
   "outputs": [],
   "source": [
    "input_x = tf.placeholder(tf.int32, shape=[None, sequence_length], name='input_x')\n",
    "input_y = tf.placeholder(tf.int32, shape=[None, ], name='input_y')\n",
    "keep_proba = tf.placeholder(tf.float32, shape=None, name='keep_proba')"
   ]
  },
  {
   "cell_type": "code",
   "execution_count": 6,
   "metadata": {
    "collapsed": true
   },
   "outputs": [],
   "source": [
    "word_embedding = tf.get_variable('word_embedding', \n",
    "                    [vocab_size, word_embed_size],\n",
    "                    tf.float32, \n",
    "                    tf.random_normal_initializer())\n",
    "embeds = tf.nn.embedding_lookup(word_embedding, input_x)\n",
    "embeds_expanded = tf.expand_dims(embeds, -1)"
   ]
  },
  {
   "cell_type": "code",
   "execution_count": 7,
   "metadata": {
    "collapsed": true
   },
   "outputs": [],
   "source": [
    "f3, f4, f5 = filter_sizes\n",
    "pooled_outputs = []"
   ]
  },
  {
   "cell_type": "code",
   "execution_count": 8,
   "metadata": {},
   "outputs": [],
   "source": [
    "with tf.name_scope(f'conv-maxpool-{f3}'):\n",
    "    filter_shape3 = [f3, word_embed_size, 1, filter_num]\n",
    "    W3 = tf.get_variable(f\"W-{f3}\", \n",
    "                        filter_shape3, \n",
    "                        initializer=tf.truncated_normal_initializer(stddev=0.1))\n",
    "    b3 = tf.get_variable(f\"b-{f3}\", [filter_num], \n",
    "                        initializer=tf.constant_initializer(0.0))\n",
    "    conv3 = tf.nn.conv2d(embeds_expanded,\n",
    "                        W3,\n",
    "                        strides=[1, 1, 1, 1],\n",
    "                        padding='VALID',\n",
    "                        name=f'conv-{f3}')\n",
    "    conv_hidden3 = tf.nn.tanh(tf.add(conv3, b3), name=f'tanh-{f3}')\n",
    "    # conv_hidden = tf.nn.relu(tf.add(conv, b), name=f'relu-{f3}')\n",
    "    pool3 = tf.nn.max_pool(conv_hidden3,\n",
    "                        ksize=[1, sequence_length - f3 + 1, 1, 1],\n",
    "                        strides=[1, 1, 1, 1],\n",
    "                        padding='VALID',\n",
    "                        name=f'pool-{f3}')\n",
    "    pooled_outputs.append(pool3)"
   ]
  },
  {
   "cell_type": "code",
   "execution_count": 9,
   "metadata": {},
   "outputs": [],
   "source": [
    "with tf.name_scope(f'conv-maxpool-{f4}'):\n",
    "    filter_shape4 = [f4, word_embed_size, 1, filter_num]\n",
    "    W4 = tf.get_variable(f\"W-{f4}\", \n",
    "                        filter_shape4, \n",
    "                        initializer=tf.truncated_normal_initializer(stddev=0.1))\n",
    "    b4 = tf.get_variable(f\"b-{f4}\", [filter_num], \n",
    "                        initializer=tf.constant_initializer(0.0))\n",
    "    conv4 = tf.nn.conv2d(embeds_expanded,\n",
    "                        W4,\n",
    "                        strides=[1, 1, 1, 1],\n",
    "                        padding='VALID',\n",
    "                        name=f'conv-{f4}')\n",
    "    conv_hidden4 = tf.nn.tanh(tf.add(conv4, b4), name=f'tanh-{f4}')\n",
    "    # conv_hidden = tf.nn.relu(tf.add(conv, b), name=f'relu-{f4}')\n",
    "    pool4 = tf.nn.max_pool(conv_hidden4,\n",
    "                        ksize=[1, sequence_length - f4 + 1, 1, 1],\n",
    "                        strides=[1, 1, 1, 1],\n",
    "                        padding='VALID',\n",
    "                        name=f'pool-{f4}')\n",
    "    pooled_outputs.append(pool4)"
   ]
  },
  {
   "cell_type": "code",
   "execution_count": 11,
   "metadata": {},
   "outputs": [
    {
     "data": {
      "text/plain": [
       "<tf.Tensor 'ExpandDims:0' shape=(?, 20, 128, 1) dtype=float32>"
      ]
     },
     "execution_count": 11,
     "metadata": {},
     "output_type": "execute_result"
    }
   ],
   "source": [
    "embeds_expanded"
   ]
  },
  {
   "cell_type": "code",
   "execution_count": 10,
   "metadata": {
    "scrolled": true
   },
   "outputs": [
    {
     "name": "stdout",
     "output_type": "stream",
     "text": [
      "Tensor(\"W-3/read:0\", shape=(3, 128, 1, 64), dtype=float32)\n",
      "Tensor(\"conv-maxpool-3/tanh-3:0\", shape=(?, 18, 1, 64), dtype=float32)\n",
      "Tensor(\"conv-maxpool-3/pool-3:0\", shape=(?, 1, 1, 64), dtype=float32)\n",
      "------------------------------\n",
      "Tensor(\"W-4/read:0\", shape=(4, 128, 1, 64), dtype=float32)\n",
      "Tensor(\"conv-maxpool-4/tanh-4:0\", shape=(?, 17, 1, 64), dtype=float32)\n",
      "Tensor(\"conv-maxpool-4/pool-4:0\", shape=(?, 1, 1, 64), dtype=float32)\n"
     ]
    }
   ],
   "source": [
    "for i in (W3, conv_hidden3, pool3):\n",
    "    print(i)\n",
    "    \n",
    "print('---' * 10 )\n",
    "\n",
    "for i in (W4, conv_hidden4, pool4):\n",
    "    print(i)"
   ]
  }
 ],
 "metadata": {
  "hide_input": false,
  "kernelspec": {
   "display_name": "Python 3",
   "language": "python",
   "name": "python3"
  },
  "language_info": {
   "codemirror_mode": {
    "name": "ipython",
    "version": 3
   },
   "file_extension": ".py",
   "mimetype": "text/x-python",
   "name": "python",
   "nbconvert_exporter": "python",
   "pygments_lexer": "ipython3",
   "version": "3.6.0"
  }
 },
 "nbformat": 4,
 "nbformat_minor": 2
}
